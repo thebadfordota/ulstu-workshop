{
 "cells": [
  {
   "cell_type": "markdown",
   "id": "bad50b6d",
   "metadata": {},
   "source": [
    "# Создаём проект:"
   ]
  },
  {
   "cell_type": "markdown",
   "id": "97ddbefa",
   "metadata": {},
   "source": [
    "**Установка библиотеки:**\n",
    "# **pip install django**"
   ]
  },
  {
   "cell_type": "markdown",
   "id": "98bf0666",
   "metadata": {},
   "source": [
    "**Создание проекта:**\n",
    "# **django-admin startproject server**"
   ]
  },
  {
   "cell_type": "markdown",
   "id": "5267af01",
   "metadata": {},
   "source": [
    "**Переходим в папку \"server\"**\n",
    "# cd server"
   ]
  },
  {
   "cell_type": "markdown",
   "id": "495655a1",
   "metadata": {},
   "source": [
    "**Создание приложения в проекте:**\n",
    "# python manage.py startapp main"
   ]
  },
  {
   "cell_type": "markdown",
   "id": "86e5560f",
   "metadata": {},
   "source": [
    "**Запуск сервера:**\n",
    "# python manage.py runserver"
   ]
  },
  {
   "cell_type": "code",
   "execution_count": null,
   "id": "185fd27e",
   "metadata": {},
   "outputs": [],
   "source": []
  },
  {
   "cell_type": "markdown",
   "id": "55d99b2c",
   "metadata": {},
   "source": [
    "# Работа с моделями базы данных:"
   ]
  },
  {
   "cell_type": "markdown",
   "id": "d843b763",
   "metadata": {},
   "source": [
    "**Запуск интерактивной оболочки Django:**\n",
    "# python manage.py shell"
   ]
  },
  {
   "cell_type": "markdown",
   "id": "2824c42b",
   "metadata": {},
   "source": [
    "**Выйти из интерактивной оболочки:**\n",
    "# exit()"
   ]
  },
  {
   "cell_type": "code",
   "execution_count": null,
   "id": "ab4fa62d",
   "metadata": {},
   "outputs": [],
   "source": []
  },
  {
   "cell_type": "markdown",
   "id": "140e1d77",
   "metadata": {},
   "source": [
    "# После создания моделей в файле models.py :"
   ]
  },
  {
   "cell_type": "markdown",
   "id": "1cc8875f",
   "metadata": {},
   "source": [
    "**Создаём файлы миграций:**\n",
    "# python manage.py makemigrations"
   ]
  },
  {
   "cell_type": "markdown",
   "id": "d2e0d2f8",
   "metadata": {},
   "source": [
    "**Проводим миграции БД:**\n",
    "# python manage.py migrate"
   ]
  },
  {
   "cell_type": "markdown",
   "id": "f70a3a5a",
   "metadata": {},
   "source": [
    "**Создаём администратора сайта:**\n",
    "# python manage.py createsuperuser"
   ]
  },
  {
   "cell_type": "code",
   "execution_count": null,
   "id": "7ff68a54",
   "metadata": {},
   "outputs": [],
   "source": []
  },
  {
   "cell_type": "markdown",
   "id": "a22a6cd1",
   "metadata": {},
   "source": [
    "# Задание"
   ]
  },
  {
   "cell_type": "markdown",
   "id": "ab516608",
   "metadata": {},
   "source": [
    "**Основное (можно выполнить частично):**"
   ]
  },
  {
   "cell_type": "markdown",
   "id": "7290d1de",
   "metadata": {},
   "source": [
    "<ul>\n",
    "    <li>Скачать и запусть приложение Django из 3-й лекции</li>\n",
    "    <li>Провести миграцию базы данных</li>\n",
    "    <li>Придумать примеры тестов/вопросов и занести их в базу данных</li>\n",
    "    <li>Создать в приложении три страницы. На каждой из них отображается одна из таблиц базы данных. (Переключение между ними можно оформить любым удобным способом)</li>\n",
    "</ul>"
   ]
  },
  {
   "cell_type": "markdown",
   "id": "821da3df",
   "metadata": {},
   "source": [
    "**Опционально (на доп. баллы)**"
   ]
  },
  {
   "cell_type": "markdown",
   "id": "9ee8ab00",
   "metadata": {},
   "source": [
    "<ul>\n",
    "    <li>Изменить и дополнить оформление сайта</li>\n",
    "</ul>"
   ]
  },
  {
   "cell_type": "markdown",
   "id": "9766a033",
   "metadata": {},
   "source": [
    "# Все домашние задания можно прислать до 13:30 (26.11.2021)"
   ]
  },
  {
   "cell_type": "markdown",
   "id": "0191644c",
   "metadata": {},
   "source": []
  },
  {
   "cell_type": "markdown",
   "id": "c366da08",
   "metadata": {},
   "source": [
    "# Дополнительные материалы:"
   ]
  },
  {
   "cell_type": "markdown",
   "id": "0d8c723b",
   "metadata": {},
   "source": [
    "Документация Django: https://djbook.ru/rel3.0/ <br> \n",
    "Официальный сайт Django: https://www.djangoproject.com/ <br>\n",
    "Курс по Django:  https://metanit.com/python/django/ <br>\n",
    "Bootstrap для вёрстки: https://bootstrap-4.ru/docs/5.1/components/list-group/"
   ]
  }
 ],
 "metadata": {
  "kernelspec": {
   "display_name": "Python 3 (ipykernel)",
   "language": "python",
   "name": "python3"
  },
  "language_info": {
   "codemirror_mode": {
    "name": "ipython",
    "version": 3
   },
   "file_extension": ".py",
   "mimetype": "text/x-python",
   "name": "python",
   "nbconvert_exporter": "python",
   "pygments_lexer": "ipython3",
   "version": "3.9.7"
  }
 },
 "nbformat": 4,
 "nbformat_minor": 5
}
