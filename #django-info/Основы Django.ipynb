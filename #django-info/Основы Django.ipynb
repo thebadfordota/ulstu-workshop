{
 "cells": [
  {
   "cell_type": "markdown",
   "id": "bad50b6d",
   "metadata": {},
   "source": [
    "# Создаём проект:"
   ]
  },
  {
   "cell_type": "markdown",
   "id": "97ddbefa",
   "metadata": {},
   "source": [
    "**Установка библиотеки:**\n",
    "# **pip install django**"
   ]
  },
  {
   "cell_type": "markdown",
   "id": "98bf0666",
   "metadata": {},
   "source": [
    "**Создание проекта:**\n",
    "# **django-admin startproject server**"
   ]
  },
  {
   "cell_type": "markdown",
   "id": "5267af01",
   "metadata": {},
   "source": [
    "**Переходим в папку \"server\"**\n",
    "# cd server"
   ]
  },
  {
   "cell_type": "markdown",
   "id": "495655a1",
   "metadata": {},
   "source": [
    "**Создание приложения в проекте:**\n",
    "# python manage.py startapp main"
   ]
  },
  {
   "cell_type": "markdown",
   "id": "86e5560f",
   "metadata": {},
   "source": [
    "**Запуск сервера:**\n",
    "# python manage.py runserver"
   ]
  },
  {
   "cell_type": "code",
   "execution_count": null,
   "id": "185fd27e",
   "metadata": {},
   "outputs": [],
   "source": []
  },
  {
   "cell_type": "markdown",
   "id": "55d99b2c",
   "metadata": {},
   "source": [
    "# Работа с моделями базы данных:"
   ]
  },
  {
   "cell_type": "markdown",
   "id": "d843b763",
   "metadata": {},
   "source": [
    "**Запуск интерактивной оболочки Django:**\n",
    "# python manage.py shell"
   ]
  },
  {
   "cell_type": "markdown",
   "id": "2824c42b",
   "metadata": {},
   "source": [
    "**Выйти из интерактивной оболочки:**\n",
    "# exit()"
   ]
  },
  {
   "cell_type": "code",
   "execution_count": null,
   "id": "ab4fa62d",
   "metadata": {},
   "outputs": [],
   "source": []
  },
  {
   "cell_type": "markdown",
   "id": "140e1d77",
   "metadata": {},
   "source": [
    "# После создания моделей в файле models.py :"
   ]
  },
  {
   "cell_type": "markdown",
   "id": "1cc8875f",
   "metadata": {},
   "source": [
    "**Создаём файлы миграций:**\n",
    "# python manage.py makemigrations"
   ]
  },
  {
   "cell_type": "markdown",
   "id": "d2e0d2f8",
   "metadata": {},
   "source": [
    "**Проводим миграции БД:**\n",
    "# python manage.py migrate"
   ]
  },
  {
   "cell_type": "markdown",
   "id": "f70a3a5a",
   "metadata": {},
   "source": [
    "**Создаём администратора сайта:**\n",
    "# python manage.py createsuperuser"
   ]
  },
  {
   "cell_type": "code",
   "execution_count": null,
   "id": "7ff68a54",
   "metadata": {},
   "outputs": [],
   "source": []
  }
 ],
 "metadata": {
  "kernelspec": {
   "display_name": "Python 3 (ipykernel)",
   "language": "python",
   "name": "python3"
  },
  "language_info": {
   "codemirror_mode": {
    "name": "ipython",
    "version": 3
   },
   "file_extension": ".py",
   "mimetype": "text/x-python",
   "name": "python",
   "nbconvert_exporter": "python",
   "pygments_lexer": "ipython3",
   "version": "3.9.7"
  }
 },
 "nbformat": 4,
 "nbformat_minor": 5
}
