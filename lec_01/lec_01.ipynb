{
 "cells": [
  {
   "cell_type": "code",
   "execution_count": 3,
   "id": "34f2f981",
   "metadata": {},
   "outputs": [
    {
     "name": "stdout",
     "output_type": "stream",
     "text": [
      "Hello, world!\n"
     ]
    }
   ],
   "source": [
    "print('Hello, world!')"
   ]
  },
  {
   "cell_type": "markdown",
   "id": "3b6ad5c1",
   "metadata": {},
   "source": [
    "**venv\\scripts\\activate** **(активировать виртуальное окружение)**"
   ]
  },
  {
   "cell_type": "markdown",
   "id": "d250b6e4",
   "metadata": {},
   "source": [
    "**python main.py  (запуск программы из консоли)**"
   ]
  },
  {
   "cell_type": "code",
   "execution_count": 4,
   "id": "8fc0b2d2",
   "metadata": {},
   "outputs": [
    {
     "name": "stdout",
     "output_type": "stream",
     "text": [
      "3\n"
     ]
    }
   ],
   "source": [
    "a = 5 - 2\n",
    "print(a)"
   ]
  },
  {
   "cell_type": "code",
   "execution_count": 5,
   "id": "de503b19",
   "metadata": {},
   "outputs": [
    {
     "name": "stdout",
     "output_type": "stream",
     "text": [
      "7\n"
     ]
    }
   ],
   "source": [
    "b = 5 + 2\n",
    "print(b)"
   ]
  },
  {
   "cell_type": "code",
   "execution_count": 6,
   "id": "7500f2a2",
   "metadata": {},
   "outputs": [
    {
     "name": "stdout",
     "output_type": "stream",
     "text": [
      "10\n"
     ]
    }
   ],
   "source": [
    "c = 5 * 2\n",
    "print(c)"
   ]
  },
  {
   "cell_type": "code",
   "execution_count": 7,
   "id": "a5970dc7",
   "metadata": {},
   "outputs": [
    {
     "name": "stdout",
     "output_type": "stream",
     "text": [
      "2.5\n"
     ]
    }
   ],
   "source": [
    "d = 5 / 2\n",
    "print(d)"
   ]
  },
  {
   "cell_type": "code",
   "execution_count": 8,
   "id": "8ee9add0",
   "metadata": {},
   "outputs": [
    {
     "name": "stdout",
     "output_type": "stream",
     "text": [
      "2\n"
     ]
    }
   ],
   "source": [
    "e = 5 // 2\n",
    "print(e)"
   ]
  },
  {
   "cell_type": "code",
   "execution_count": 9,
   "id": "d6763d8d",
   "metadata": {},
   "outputs": [
    {
     "name": "stdout",
     "output_type": "stream",
     "text": [
      "25\n"
     ]
    }
   ],
   "source": [
    "f = 5 ** 2\n",
    "print(f)"
   ]
  },
  {
   "cell_type": "code",
   "execution_count": 10,
   "id": "da604776",
   "metadata": {},
   "outputs": [
    {
     "name": "stdout",
     "output_type": "stream",
     "text": [
      "2\n"
     ]
    }
   ],
   "source": [
    "g = 11 % 3\n",
    "print(g)"
   ]
  },
  {
   "cell_type": "markdown",
   "id": "1dfd5a22",
   "metadata": {},
   "source": [
    "# Строки"
   ]
  },
  {
   "cell_type": "code",
   "execution_count": 11,
   "id": "032a231f",
   "metadata": {},
   "outputs": [
    {
     "name": "stdout",
     "output_type": "stream",
     "text": [
      "Lorem ipsum dolor sit amet, \n",
      " consectetur adipiscing elit,\n"
     ]
    }
   ],
   "source": [
    "s = 'Lorem ipsum dolor sit amet, \\n consectetur adipiscing elit,'\n",
    "id(s)\n",
    "print(s)"
   ]
  },
  {
   "cell_type": "code",
   "execution_count": 12,
   "id": "7acea86a",
   "metadata": {},
   "outputs": [
    {
     "name": "stdout",
     "output_type": "stream",
     "text": [
      "Привет, я Kirill Semenov\n",
      "5\n",
      "6.56\n"
     ]
    }
   ],
   "source": [
    "first_name = \"Kirill\"\n",
    "last_name = \"Semenov\"\n",
    "s = 'Привет, я ' + first_name + ' ' + last_name\n",
    "print(s)\n",
    "sst = '101'\n",
    "ast = int(sst, 2)\n",
    "print(ast)\n",
    "zft = 6.5573452\n",
    "print(round(zft, 2))"
   ]
  },
  {
   "cell_type": "code",
   "execution_count": 13,
   "id": "b958e504",
   "metadata": {},
   "outputs": [
    {
     "name": "stdout",
     "output_type": "stream",
     "text": [
      "Привет, я Kirill Semenov\n",
      "Здравствуйте, я Kirill Semenov\n"
     ]
    }
   ],
   "source": [
    "st = 'Привет, я {} {}'\n",
    "st = st.format('Kirill', 'Semenov')\n",
    "print(st)\n",
    "s = f'Здравствуйте, я {first_name} {last_name}'\n",
    "print(s)"
   ]
  },
  {
   "cell_type": "code",
   "execution_count": 14,
   "id": "1a961c8f",
   "metadata": {},
   "outputs": [
    {
     "name": "stdout",
     "output_type": "stream",
     "text": [
      "Здравствуйте, я Kirill SemenovЗдравствуйте, я Kirill Semenov\n"
     ]
    }
   ],
   "source": [
    "print(s + s)"
   ]
  },
  {
   "cell_type": "code",
   "execution_count": 15,
   "id": "c155debf",
   "metadata": {},
   "outputs": [
    {
     "name": "stdout",
     "output_type": "stream",
     "text": [
      "Здравствуйте, я Kirill SemenovЗдравствуйте, я Kirill SemenovЗдравствуйте, я Kirill Semenov\n"
     ]
    }
   ],
   "source": [
    "print(s * 3)"
   ]
  },
  {
   "cell_type": "code",
   "execution_count": 16,
   "id": "1c8d3a4e",
   "metadata": {
    "scrolled": true
   },
   "outputs": [
    {
     "data": {
      "text/plain": [
       "['__add__',\n",
       " '__class__',\n",
       " '__contains__',\n",
       " '__delattr__',\n",
       " '__dir__',\n",
       " '__doc__',\n",
       " '__eq__',\n",
       " '__format__',\n",
       " '__ge__',\n",
       " '__getattribute__',\n",
       " '__getitem__',\n",
       " '__getnewargs__',\n",
       " '__gt__',\n",
       " '__hash__',\n",
       " '__init__',\n",
       " '__init_subclass__',\n",
       " '__iter__',\n",
       " '__le__',\n",
       " '__len__',\n",
       " '__lt__',\n",
       " '__mod__',\n",
       " '__mul__',\n",
       " '__ne__',\n",
       " '__new__',\n",
       " '__reduce__',\n",
       " '__reduce_ex__',\n",
       " '__repr__',\n",
       " '__rmod__',\n",
       " '__rmul__',\n",
       " '__setattr__',\n",
       " '__sizeof__',\n",
       " '__str__',\n",
       " '__subclasshook__',\n",
       " 'capitalize',\n",
       " 'casefold',\n",
       " 'center',\n",
       " 'count',\n",
       " 'encode',\n",
       " 'endswith',\n",
       " 'expandtabs',\n",
       " 'find',\n",
       " 'format',\n",
       " 'format_map',\n",
       " 'index',\n",
       " 'isalnum',\n",
       " 'isalpha',\n",
       " 'isascii',\n",
       " 'isdecimal',\n",
       " 'isdigit',\n",
       " 'isidentifier',\n",
       " 'islower',\n",
       " 'isnumeric',\n",
       " 'isprintable',\n",
       " 'isspace',\n",
       " 'istitle',\n",
       " 'isupper',\n",
       " 'join',\n",
       " 'ljust',\n",
       " 'lower',\n",
       " 'lstrip',\n",
       " 'maketrans',\n",
       " 'partition',\n",
       " 'removeprefix',\n",
       " 'removesuffix',\n",
       " 'replace',\n",
       " 'rfind',\n",
       " 'rindex',\n",
       " 'rjust',\n",
       " 'rpartition',\n",
       " 'rsplit',\n",
       " 'rstrip',\n",
       " 'split',\n",
       " 'splitlines',\n",
       " 'startswith',\n",
       " 'strip',\n",
       " 'swapcase',\n",
       " 'title',\n",
       " 'translate',\n",
       " 'upper',\n",
       " 'zfill']"
      ]
     },
     "execution_count": 16,
     "metadata": {},
     "output_type": "execute_result"
    }
   ],
   "source": [
    "dir('123') # вывод всех методов класса"
   ]
  },
  {
   "cell_type": "code",
   "execution_count": 17,
   "id": "de972338",
   "metadata": {},
   "outputs": [
    {
     "name": "stdout",
     "output_type": "stream",
     "text": [
      "здравствуйте, я kirill semenov\n"
     ]
    }
   ],
   "source": [
    "print(s.lower())"
   ]
  },
  {
   "cell_type": "code",
   "execution_count": 18,
   "id": "5afcee6e",
   "metadata": {},
   "outputs": [
    {
     "name": "stdout",
     "output_type": "stream",
     "text": [
      "14\n"
     ]
    }
   ],
   "source": [
    "print(s.index('я'))"
   ]
  },
  {
   "cell_type": "code",
   "execution_count": 19,
   "id": "f3dbedc7",
   "metadata": {},
   "outputs": [
    {
     "name": "stdout",
     "output_type": "stream",
     "text": [
      "14\n"
     ]
    }
   ],
   "source": [
    "print(s.find('я'))"
   ]
  },
  {
   "cell_type": "code",
   "execution_count": 20,
   "id": "e2cb26c6",
   "metadata": {},
   "outputs": [
    {
     "name": "stdout",
     "output_type": "stream",
     "text": [
      "['Здравствуйте,', 'я', 'Kirill', 'Semenov']\n"
     ]
    }
   ],
   "source": [
    "print(s.split(\" \"))"
   ]
  },
  {
   "cell_type": "code",
   "execution_count": 21,
   "id": "3448e409",
   "metadata": {},
   "outputs": [
    {
     "name": "stdout",
     "output_type": "stream",
     "text": [
      ";;Здравствуйте, я Kirill Semenov;;;;\n",
      "Здравствуйте, я Kirill Semenov\n",
      "Help on built-in function strip:\n",
      "\n",
      "strip(chars=None, /) method of builtins.str instance\n",
      "    Return a copy of the string with leading and trailing whitespace removed.\n",
      "    \n",
      "    If chars is given and not None, remove characters in chars instead.\n",
      "\n"
     ]
    }
   ],
   "source": [
    "new_s = ';;' + s + ';;;;'\n",
    "print(new_s)\n",
    "print(new_s.strip(';'))\n",
    "help(s.strip)"
   ]
  },
  {
   "cell_type": "code",
   "execution_count": 100,
   "id": "8b0c7e94",
   "metadata": {},
   "outputs": [
    {
     "name": "stdout",
     "output_type": "stream",
     "text": [
      "True\n"
     ]
    }
   ],
   "source": [
    "my_string = \"hello world\"\n",
    "exist = \"hello\" in my_string\n",
    "print(exist)    # True"
   ]
  },
  {
   "cell_type": "code",
   "execution_count": 101,
   "id": "acad73e4",
   "metadata": {},
   "outputs": [
    {
     "name": "stdout",
     "output_type": "stream",
     "text": [
      "1!!2!!3!!4!!5\n"
     ]
    }
   ],
   "source": [
    "print(\"!!\".join(lst))"
   ]
  },
  {
   "cell_type": "code",
   "execution_count": 24,
   "id": "82c35fbc",
   "metadata": {},
   "outputs": [
    {
     "name": "stdout",
     "output_type": "stream",
     "text": [
      "Help on built-in function isalpha:\n",
      "\n",
      "isalpha() method of builtins.str instance\n",
      "    Return True if the string is an alphabetic string, False otherwise.\n",
      "    \n",
      "    A string is alphabetic if all characters in the string are alphabetic and there\n",
      "    is at least one character in the string.\n",
      "\n"
     ]
    }
   ],
   "source": [
    "help(\"1\".isalpha)"
   ]
  },
  {
   "cell_type": "code",
   "execution_count": 25,
   "id": "344de168",
   "metadata": {},
   "outputs": [
    {
     "name": "stdout",
     "output_type": "stream",
     "text": [
      "+1 234 567 89 10\n"
     ]
    }
   ],
   "source": [
    "phone = \"+1-234-567-89-10\"\n",
    " \n",
    "# замена дефисов на пробел\n",
    "edited_phone = phone.replace(\"-\", \" \")\n",
    "print(edited_phone)     # +1 234 567 89 10"
   ]
  },
  {
   "cell_type": "code",
   "execution_count": 26,
   "id": "c26f6bca",
   "metadata": {},
   "outputs": [
    {
     "name": "stdout",
     "output_type": "stream",
     "text": [
      "+1234-567-89-10\n"
     ]
    }
   ],
   "source": [
    "# замена только первого дефиса\n",
    "edited_phone = phone.replace(\"-\", \"\", 1)\n",
    "print(edited_phone)     # +1234-567-89-10"
   ]
  },
  {
   "cell_type": "code",
   "execution_count": 27,
   "id": "952c120d",
   "metadata": {},
   "outputs": [
    {
     "name": "stdout",
     "output_type": "stream",
     "text": [
      "кит  бык\n"
     ]
    }
   ],
   "source": [
    "translate_table = str.maketrans({'о': 'и', 'л': 'к', '-': ''})\n",
    "replaced = 'кот - был'.translate(translate_table)\n",
    "print(replaced)"
   ]
  },
  {
   "cell_type": "code",
   "execution_count": 28,
   "id": "37ca6f9d",
   "metadata": {},
   "outputs": [
    {
     "name": "stdout",
     "output_type": "stream",
     "text": [
      "8\n",
      "Help on function my_pow in module __main__:\n",
      "\n",
      "my_pow(a, b)\n",
      "    returns a ** b\n",
      "\n"
     ]
    }
   ],
   "source": [
    "def my_pow(a, b):\n",
    "    \"\"\"\n",
    "    returns a ** b\n",
    "    \"\"\"\n",
    "    return a ** b\n",
    "print(my_pow(2, 3))\n",
    "help(my_pow)"
   ]
  },
  {
   "cell_type": "markdown",
   "id": "d96af338",
   "metadata": {},
   "source": [
    "## PEP8 <br> (https://pythonworld.ru/osnovy/pep-8-rukovodstvo-po-napisaniyu-koda-na-python.html)"
   ]
  },
  {
   "cell_type": "markdown",
   "id": "a6a3bad2",
   "metadata": {},
   "source": [
    "# Циклы и условные операторы"
   ]
  },
  {
   "cell_type": "code",
   "execution_count": 29,
   "id": "664602ba",
   "metadata": {},
   "outputs": [
    {
     "name": "stdout",
     "output_type": "stream",
     "text": [
      "Perfect\n"
     ]
    }
   ],
   "source": [
    "a = -10\n",
    "if -1000 < a < 30:\n",
    "    print(\"Perfect\")\n",
    "elif a >= -15:\n",
    "    print(\"Normal\")\n",
    "else:\n",
    "    print(\"Error\")"
   ]
  },
  {
   "cell_type": "code",
   "execution_count": 30,
   "id": "cd99fe9d",
   "metadata": {},
   "outputs": [
    {
     "name": "stdout",
     "output_type": "stream",
     "text": [
      "99\n",
      "10\n",
      "False\n"
     ]
    }
   ],
   "source": [
    "x = 10\n",
    "y = 99\n",
    "\n",
    "temp = x\n",
    "x = y\n",
    "y = temp\n",
    "\n",
    "print(x)\n",
    "print(y)\n",
    "print(x == y)"
   ]
  },
  {
   "cell_type": "code",
   "execution_count": 93,
   "id": "b34626d7",
   "metadata": {},
   "outputs": [
    {
     "name": "stdout",
     "output_type": "stream",
     "text": [
      "35\n",
      "[-1, 0, 8, 11, 22, 35]\n",
      "[0, 1, 2, 3, 4]\n"
     ]
    }
   ],
   "source": [
    "lst = [\"1\", \"2\", \"3\", \"4\", \"5\"]\n",
    "id(lst)\n",
    "a = [11, 35, 22, -1, 0, 8]\n",
    "print(max(a))\n",
    "a.sort()\n",
    "print(a)\n",
    "\n",
    "b = list(range(5))\n",
    "print(b)"
   ]
  },
  {
   "cell_type": "code",
   "execution_count": 92,
   "id": "e3a34d01",
   "metadata": {},
   "outputs": [
    {
     "name": "stdout",
     "output_type": "stream",
     "text": [
      "[[5, 1], [5, 1], [5, 1]]\n",
      "[[5, 1], [1, 1], [1, 1]]\n"
     ]
    }
   ],
   "source": [
    "### Тестовый вопрос\n",
    "source_list = [[1] * 2]\n",
    "new_list = [[1] * 2] * 3\n",
    "new_list[0][0] = 5\n",
    "print(new_list)\n",
    "### Решение\n",
    "lst = [[1] * 2 for i in range(3)]\n",
    "lst[0][0] = 5\n",
    "print(lst)"
   ]
  },
  {
   "cell_type": "code",
   "execution_count": 33,
   "id": "1b0d7b29",
   "metadata": {},
   "outputs": [
    {
     "name": "stdout",
     "output_type": "stream",
     "text": [
      "3\n",
      "7\n",
      "11\n",
      "15\n",
      "19\n",
      "[35, 22, 11, 8, 0, -1]\n",
      "35 22 11 8 0 -1 \n",
      "!!!!\n",
      "0: 35\n",
      "1: 22\n",
      "2: 11\n",
      "3: 8\n",
      "4: 0\n",
      "5: -1\n"
     ]
    }
   ],
   "source": [
    "for i in range(3, 20, 4):\n",
    "    print(i)# sep, end\n",
    "\n",
    "a.reverse()\n",
    "print(a)\n",
    "\n",
    "for i in a:\n",
    "    print(i, end=\" \")\n",
    "\n",
    "    \n",
    "print(\"\\n!!!!\")\n",
    "cnt = 0\n",
    "for i in a:\n",
    "    print(f'{cnt}: {i}')\n",
    "    cnt += 1"
   ]
  },
  {
   "cell_type": "code",
   "execution_count": 34,
   "id": "47be21dc",
   "metadata": {},
   "outputs": [
    {
     "name": "stdout",
     "output_type": "stream",
     "text": [
      "0: 35\n",
      "1: 22\n",
      "2: 11\n",
      "3: 8\n",
      "4: 0\n",
      "5: -1\n"
     ]
    }
   ],
   "source": [
    "for it, i in enumerate(a):\n",
    "    print(f'{it}: {i}')"
   ]
  },
  {
   "cell_type": "code",
   "execution_count": 35,
   "id": "933d3878",
   "metadata": {},
   "outputs": [
    {
     "name": "stdout",
     "output_type": "stream",
     "text": [
      "Привет\n",
      "Для продолжения нажмите Y, а для выхода любую другую клавишу: \n",
      "Работа программы завешена\n"
     ]
    }
   ],
   "source": [
    "choice = \"y\"\n",
    " \n",
    "while choice.lower() == \"y\":\n",
    "    print(\"Привет\")\n",
    "    choice = input(\"Для продолжения нажмите Y, а для выхода любую другую клавишу: \")\n",
    "print(\"Работа программы завешена\")"
   ]
  },
  {
   "cell_type": "code",
   "execution_count": 36,
   "id": "3dc32ddb",
   "metadata": {
    "scrolled": true
   },
   "outputs": [
    {
     "data": {
      "text/plain": [
       "['__add__',\n",
       " '__class__',\n",
       " '__class_getitem__',\n",
       " '__contains__',\n",
       " '__delattr__',\n",
       " '__delitem__',\n",
       " '__dir__',\n",
       " '__doc__',\n",
       " '__eq__',\n",
       " '__format__',\n",
       " '__ge__',\n",
       " '__getattribute__',\n",
       " '__getitem__',\n",
       " '__gt__',\n",
       " '__hash__',\n",
       " '__iadd__',\n",
       " '__imul__',\n",
       " '__init__',\n",
       " '__init_subclass__',\n",
       " '__iter__',\n",
       " '__le__',\n",
       " '__len__',\n",
       " '__lt__',\n",
       " '__mul__',\n",
       " '__ne__',\n",
       " '__new__',\n",
       " '__reduce__',\n",
       " '__reduce_ex__',\n",
       " '__repr__',\n",
       " '__reversed__',\n",
       " '__rmul__',\n",
       " '__setattr__',\n",
       " '__setitem__',\n",
       " '__sizeof__',\n",
       " '__str__',\n",
       " '__subclasshook__',\n",
       " 'append',\n",
       " 'clear',\n",
       " 'copy',\n",
       " 'count',\n",
       " 'extend',\n",
       " 'index',\n",
       " 'insert',\n",
       " 'pop',\n",
       " 'remove',\n",
       " 'reverse',\n",
       " 'sort']"
      ]
     },
     "execution_count": 36,
     "metadata": {},
     "output_type": "execute_result"
    }
   ],
   "source": [
    "dir([])"
   ]
  },
  {
   "cell_type": "code",
   "execution_count": 37,
   "id": "82f4c70a",
   "metadata": {},
   "outputs": [
    {
     "name": "stdout",
     "output_type": "stream",
     "text": [
      "[35, 22, 11, 8, 0, -1, 99999]\n"
     ]
    }
   ],
   "source": [
    "a.append(99999)\n",
    "print(a)"
   ]
  },
  {
   "cell_type": "code",
   "execution_count": 38,
   "id": "22bcad6e",
   "metadata": {},
   "outputs": [
    {
     "name": "stdout",
     "output_type": "stream",
     "text": [
      "[35, 22, 11, 8, 0, -1, 99999, 0, 1, 2, 3, 4]\n"
     ]
    }
   ],
   "source": [
    "a.extend(b) #app\n",
    "print(a)"
   ]
  },
  {
   "cell_type": "code",
   "execution_count": 39,
   "id": "c72bfc03",
   "metadata": {},
   "outputs": [
    {
     "name": "stdout",
     "output_type": "stream",
     "text": [
      "[-1, 0, 0, 1, 2, 3, 4, 8, 11, 22, 35, 99999]\n",
      "[99999, 35, 22, 11, 8, 4, 3, 2, 1, 0, 0, -1]\n"
     ]
    }
   ],
   "source": [
    "a.sort()\n",
    "print(a)\n",
    "a.sort(reverse=True)\n",
    "print(a)"
   ]
  },
  {
   "cell_type": "markdown",
   "id": "bc1ca9a3",
   "metadata": {},
   "source": [
    "# Словари"
   ]
  },
  {
   "cell_type": "code",
   "execution_count": 40,
   "id": "4a00ea16",
   "metadata": {},
   "outputs": [
    {
     "name": "stdout",
     "output_type": "stream",
     "text": [
      "True\n"
     ]
    }
   ],
   "source": [
    "d = {}\n",
    "d['name_1'] = 'Steve'\n",
    "d['name_2'] = 'John'\n",
    "print('name_2' in d)"
   ]
  },
  {
   "cell_type": "code",
   "execution_count": 41,
   "id": "40575db7",
   "metadata": {},
   "outputs": [
    {
     "name": "stdout",
     "output_type": "stream",
     "text": [
      "{'name_1': 'Steve', 'name_2': 'John'}\n"
     ]
    }
   ],
   "source": [
    "print(d)"
   ]
  },
  {
   "cell_type": "code",
   "execution_count": 42,
   "id": "c52f0e95",
   "metadata": {},
   "outputs": [
    {
     "name": "stdout",
     "output_type": "stream",
     "text": [
      "Not found\n"
     ]
    }
   ],
   "source": [
    "print(d.get('name_3', 'Not found'))"
   ]
  },
  {
   "cell_type": "code",
   "execution_count": 43,
   "id": "3eb137f7",
   "metadata": {},
   "outputs": [
    {
     "name": "stdout",
     "output_type": "stream",
     "text": [
      "name_1 Steve\n",
      "name_2 John\n"
     ]
    }
   ],
   "source": [
    "for key, value in d.items():\n",
    "    print(f'{key} {value}')"
   ]
  },
  {
   "cell_type": "code",
   "execution_count": 96,
   "id": "8e8c74d2",
   "metadata": {},
   "outputs": [
    {
     "name": "stdout",
     "output_type": "stream",
     "text": [
      "{'+111123455': 'Tom', '+384767557': 'Bob', '+958758767': 'Alice'}\n"
     ]
    }
   ],
   "source": [
    "users_list = [\n",
    "    [\"+111123455\", \"Tom\"],\n",
    "    [\"+384767557\", \"Bob\"],\n",
    "    [\"+958758767\", \"Alice\"]\n",
    "] # из списка в словарь\n",
    "users_dict = dict(users_list)\n",
    "print(users_dict)"
   ]
  },
  {
   "cell_type": "code",
   "execution_count": 99,
   "id": "b220d277",
   "metadata": {},
   "outputs": [
    {
     "name": "stdout",
     "output_type": "stream",
     "text": [
      "{'+111123455': 'Tom', '+384767557': 'Bob', '+958758767': 'Alice', '+2222222': 'Sam', '+6666666': 'Kate'}\n"
     ]
    }
   ],
   "source": [
    "users2 = {\"+2222222\": \"Sam\",\"+6666666\": \"Kate\"}\n",
    "users_dict.update(users2) # объединение словарей\n",
    "print(users_dict)"
   ]
  },
  {
   "cell_type": "code",
   "execution_count": 46,
   "id": "99b99b72",
   "metadata": {},
   "outputs": [
    {
     "name": "stdout",
     "output_type": "stream",
     "text": [
      "tom12@gmail.com\n"
     ]
    }
   ],
   "source": [
    "users = {\n",
    "    \"Tom\": {\n",
    "        \"phone\": \"+971478745\",\n",
    "        \"email\": \"tom12@gmail.com\"\n",
    "    },\n",
    "    \"Bob\": {\n",
    "        \"phone\": \"+876390444\",\n",
    "        \"email\": \"bob@gmail.com\",\n",
    "        \"skype\": \"bob123\"\n",
    "    }\n",
    "}\n",
    "curr_email = users[\"Tom\"][\"email\"]\n",
    "print(curr_email)"
   ]
  },
  {
   "cell_type": "code",
   "execution_count": 47,
   "id": "207cd83f",
   "metadata": {},
   "outputs": [
    {
     "name": "stdout",
     "output_type": "stream",
     "text": [
      "skype is not found\n"
     ]
    }
   ],
   "source": [
    "key = \"skype\"\n",
    "if key in users[\"Tom\"]:\n",
    "    print(users[\"Tom\"][\"skype\"])\n",
    "else:\n",
    "    print(\"skype is not found\")"
   ]
  },
  {
   "cell_type": "code",
   "execution_count": 48,
   "id": "f1d76766",
   "metadata": {},
   "outputs": [
    {
     "name": "stdout",
     "output_type": "stream",
     "text": [
      "1 2 3\n",
      "(1, 2, 3)\n"
     ]
    }
   ],
   "source": [
    "z = (1, 2, 3)\n",
    "a, b, c = z\n",
    "print(a, b, c)\n",
    "print(z)"
   ]
  },
  {
   "cell_type": "code",
   "execution_count": null,
   "id": "7b5053f9",
   "metadata": {},
   "outputs": [],
   "source": []
  },
  {
   "cell_type": "code",
   "execution_count": 49,
   "id": "07e9a092",
   "metadata": {},
   "outputs": [
    {
     "name": "stdout",
     "output_type": "stream",
     "text": [
      "400\n"
     ]
    }
   ],
   "source": [
    "a = 500\n",
    "b = 700 if a > 600 else 400\n",
    "print(b)"
   ]
  },
  {
   "cell_type": "markdown",
   "id": "0e2c930c",
   "metadata": {},
   "source": [
    "# Множества"
   ]
  },
  {
   "cell_type": "code",
   "execution_count": 50,
   "id": "f68fd90d",
   "metadata": {},
   "outputs": [
    {
     "name": "stdout",
     "output_type": "stream",
     "text": [
      "{'Bob', 'Tom', 'Alice'}\n"
     ]
    }
   ],
   "source": [
    "users = {\"Tom\",\"Bob\",\"Alice\", \"Tom\"}\n",
    "print(users)    # {\"Tom\",\"Bob\",\"Alice\"}"
   ]
  },
  {
   "cell_type": "code",
   "execution_count": 51,
   "id": "86e1ec96",
   "metadata": {},
   "outputs": [
    {
     "name": "stdout",
     "output_type": "stream",
     "text": [
      "{'Mike', 'Bill', 'Ted'}\n",
      "{'Sam', 'Mike', 'Bill', 'Ted'}\n"
     ]
    }
   ],
   "source": [
    "users3 = set([\"Mike\", \"Bill\", \"Ted\"])\n",
    "print(users3)\n",
    "users3.add(\"Sam\")\n",
    "print(users3)"
   ]
  },
  {
   "cell_type": "code",
   "execution_count": 52,
   "id": "1dd81f25",
   "metadata": {},
   "outputs": [
    {
     "name": "stdout",
     "output_type": "stream",
     "text": [
      "{'Sam', 'Mike', 'Bill'}\n"
     ]
    },
    {
     "ename": "NameError",
     "evalue": "name 'user' is not defined",
     "output_type": "error",
     "traceback": [
      "\u001b[1;31m---------------------------------------------------------------------------\u001b[0m",
      "\u001b[1;31mNameError\u001b[0m                                 Traceback (most recent call last)",
      "\u001b[1;32mC:\\Users\\THEBAD~1\\AppData\\Local\\Temp/ipykernel_9408/4277003428.py\u001b[0m in \u001b[0;36m<module>\u001b[1;34m\u001b[0m\n\u001b[0;32m      1\u001b[0m \u001b[0musers3\u001b[0m\u001b[1;33m.\u001b[0m\u001b[0mremove\u001b[0m\u001b[1;33m(\u001b[0m\u001b[1;34m\"Ted\"\u001b[0m\u001b[1;33m)\u001b[0m\u001b[1;33m\u001b[0m\u001b[1;33m\u001b[0m\u001b[0m\n\u001b[0;32m      2\u001b[0m \u001b[0mprint\u001b[0m\u001b[1;33m(\u001b[0m\u001b[0musers3\u001b[0m\u001b[1;33m)\u001b[0m\u001b[1;33m\u001b[0m\u001b[1;33m\u001b[0m\u001b[0m\n\u001b[1;32m----> 3\u001b[1;33m \u001b[0musers3\u001b[0m\u001b[1;33m.\u001b[0m\u001b[0mdiscard\u001b[0m\u001b[1;33m(\u001b[0m\u001b[0muser\u001b[0m\u001b[1;33m)\u001b[0m \u001b[1;31m# удаляет, но не генерит ошибку, если нет подходящего элемента\u001b[0m\u001b[1;33m\u001b[0m\u001b[1;33m\u001b[0m\u001b[0m\n\u001b[0m\u001b[0;32m      4\u001b[0m \u001b[0mprint\u001b[0m\u001b[1;33m(\u001b[0m\u001b[0musers3\u001b[0m\u001b[1;33m)\u001b[0m\u001b[1;33m\u001b[0m\u001b[1;33m\u001b[0m\u001b[0m\n",
      "\u001b[1;31mNameError\u001b[0m: name 'user' is not defined"
     ]
    }
   ],
   "source": [
    "users3.remove(\"Ted\")\n",
    "print(users3)\n",
    "users3.discard(user) # удаляет, но не генерит ошибку, если нет подходящего элемента\n",
    "print(users3)\n"
   ]
  },
  {
   "cell_type": "code",
   "execution_count": 53,
   "id": "b01d0bed",
   "metadata": {},
   "outputs": [
    {
     "name": "stdout",
     "output_type": "stream",
     "text": [
      "{'Sam', 'Bob', 'Kate', 'Tom', 'Alice'}\n"
     ]
    }
   ],
   "source": [
    "users = {\"Tom\",\"Bob\",\"Alice\"}\n",
    "users2 = {\"Sam\",\"Kate\", \"Bob\"}\n",
    " \n",
    "users3 = users.union(users2)\n",
    "print(users3)"
   ]
  },
  {
   "cell_type": "markdown",
   "id": "996770a8",
   "metadata": {},
   "source": [
    "**Пересечение множеств позволяет получить только те элементы, которые есть одновременно в обоих множествах. Метод intersection() производит операцию пересечения множеств и возвращает новое множество:**"
   ]
  },
  {
   "cell_type": "code",
   "execution_count": 54,
   "id": "8ff651de",
   "metadata": {},
   "outputs": [
    {
     "name": "stdout",
     "output_type": "stream",
     "text": [
      "{'Bob'}\n"
     ]
    }
   ],
   "source": [
    "users = {\"Tom\",\"Bob\",\"Alice\"}\n",
    "users2 = {\"Sam\",\"Kate\", \"Bob\"}\n",
    " \n",
    "users3 = users.intersection(users2)\n",
    "print(users3)   # {\"Bob\"}"
   ]
  },
  {
   "cell_type": "markdown",
   "id": "56d4a43d",
   "metadata": {},
   "source": [
    "**Еще одна операция - разность множеств возвращает те элементы, которые есть в первом множестве, но отсутствуют во втором. Для получения разности множеств можно использовать метод difference или операцию вычитания:**"
   ]
  },
  {
   "cell_type": "code",
   "execution_count": 55,
   "id": "083280e8",
   "metadata": {},
   "outputs": [
    {
     "name": "stdout",
     "output_type": "stream",
     "text": [
      "{'Tom', 'Alice'}\n",
      "{'Tom', 'Alice'}\n"
     ]
    }
   ],
   "source": [
    "users = {\"Tom\",\"Bob\",\"Alice\"}\n",
    "users2 = {\"Sam\",\"Kate\", \"Bob\"}\n",
    " \n",
    "users3 = users.difference(users2)\n",
    "print(users3)           # {\"Tom\", \"Alice\"}\n",
    "print(users - users2)   # {\"Tom\", \"Alice\"}"
   ]
  },
  {
   "cell_type": "markdown",
   "id": "7894505a",
   "metadata": {},
   "source": [
    "**Метод issubset позволяет выяснить, является ли текущее множество подмножеством (то есть частью) другого множества:**"
   ]
  },
  {
   "cell_type": "code",
   "execution_count": 56,
   "id": "d99bca1b",
   "metadata": {},
   "outputs": [
    {
     "name": "stdout",
     "output_type": "stream",
     "text": [
      "True\n",
      "False\n"
     ]
    }
   ],
   "source": [
    "users = {\"Tom\", \"Bob\", \"Alice\"}\n",
    "superusers = {\"Sam\", \"Tom\", \"Bob\", \"Alice\", \"Greg\"}\n",
    " \n",
    "print(users.issubset(superusers))   # True\n",
    "print(superusers.issubset(users))   # False"
   ]
  },
  {
   "cell_type": "markdown",
   "id": "90c1e5e4",
   "metadata": {},
   "source": [
    "**Метод issuperset, наоборот, возвращает True, если текущее множество является надмножеством (то есть содержит) для другого множества:**"
   ]
  },
  {
   "cell_type": "code",
   "execution_count": 57,
   "id": "3aac52f2",
   "metadata": {},
   "outputs": [
    {
     "name": "stdout",
     "output_type": "stream",
     "text": [
      "False\n",
      "True\n"
     ]
    }
   ],
   "source": [
    "users = {\"Tom\", \"Bob\", \"Alice\"}\n",
    "superusers = {\"Sam\", \"Tom\", \"Bob\", \"Alice\", \"Greg\"}\n",
    " \n",
    "print(users.issuperset(superusers))   # False\n",
    "print(superusers.issuperset(users))   # True"
   ]
  },
  {
   "cell_type": "code",
   "execution_count": 58,
   "id": "0a28864f",
   "metadata": {},
   "outputs": [
    {
     "name": "stdout",
     "output_type": "stream",
     "text": [
      "2901113291040\n",
      "{1, 2, 3, 4}\n"
     ]
    },
    {
     "data": {
      "text/plain": [
       "2901113291040"
      ]
     },
     "execution_count": 58,
     "metadata": {},
     "output_type": "execute_result"
    }
   ],
   "source": [
    "A = set() # добавление списка в мн-во\n",
    "print(id(A))\n",
    "A.update([1, 2, 3, 4])\n",
    "print(A)\n",
    "id(A)"
   ]
  },
  {
   "cell_type": "markdown",
   "id": "ae67fe1b",
   "metadata": {},
   "source": [
    "# Списки и срезы"
   ]
  },
  {
   "cell_type": "code",
   "execution_count": 59,
   "id": "46fb80f6",
   "metadata": {},
   "outputs": [
    {
     "name": "stdout",
     "output_type": "stream",
     "text": [
      "9\n"
     ]
    }
   ],
   "source": [
    "import random as r\n",
    "print(r.randint(0, 10))"
   ]
  },
  {
   "cell_type": "code",
   "execution_count": 60,
   "id": "962f7e96",
   "metadata": {},
   "outputs": [
    {
     "name": "stdout",
     "output_type": "stream",
     "text": [
      "0.7008396344428168\n",
      "86.76664505995421\n"
     ]
    }
   ],
   "source": [
    "number = r.random()  # значение от 0.0 до 1.0\n",
    "print(number)\n",
    "number = r.random() * 100  # значение от 0.0 до 100.0\n",
    "print(number)"
   ]
  },
  {
   "cell_type": "code",
   "execution_count": 61,
   "id": "8412f705",
   "metadata": {},
   "outputs": [
    {
     "name": "stdout",
     "output_type": "stream",
     "text": [
      "[5, 6, 2, 4, 1, 3]\n",
      "3\n"
     ]
    }
   ],
   "source": [
    "test = [1, 2, 3, 4, 5, 6]\n",
    "r.shuffle(test)\n",
    "print(test)\n",
    "r_ch = r.choice(test)\n",
    "print(r_ch)"
   ]
  },
  {
   "cell_type": "code",
   "execution_count": 62,
   "id": "37b6e3ce",
   "metadata": {},
   "outputs": [],
   "source": [
    "new_lst = [1, 2, 3, 4, 5, 6, 7, 8]\n"
   ]
  },
  {
   "cell_type": "code",
   "execution_count": 63,
   "id": "45a239f9",
   "metadata": {},
   "outputs": [
    {
     "name": "stdout",
     "output_type": "stream",
     "text": [
      "[18, 14, 51, 99, 66, 10, 9, 17, 94, 10]\n"
     ]
    }
   ],
   "source": [
    "lst = []\n",
    "for i in range(10):\n",
    "    lst.append(r.randint(0, 100))\n",
    "print(lst)"
   ]
  },
  {
   "cell_type": "code",
   "execution_count": 64,
   "id": "95a4f347",
   "metadata": {},
   "outputs": [
    {
     "name": "stdout",
     "output_type": "stream",
     "text": [
      "[88, 21, 40, 90, 2, 52, 97, 22, 81, 1]\n"
     ]
    }
   ],
   "source": [
    "lst = [1, 2, 3, 4, 5]\n",
    "lst = [r.randint(0, 100) for a in range(10)]\n",
    "print(lst)"
   ]
  },
  {
   "cell_type": "code",
   "execution_count": 65,
   "id": "a823d1dc",
   "metadata": {},
   "outputs": [
    {
     "name": "stdout",
     "output_type": "stream",
     "text": [
      "[0, 2, 4, 6, 8, 10, 12, 14, 16, 18]\n"
     ]
    }
   ],
   "source": [
    "lst = [i for i in range(20) if i % 2 == 0]\n",
    "print(lst)"
   ]
  },
  {
   "cell_type": "code",
   "execution_count": 66,
   "id": "d8b9415a",
   "metadata": {},
   "outputs": [
    {
     "name": "stdout",
     "output_type": "stream",
     "text": [
      "[0, 4, 16, 36, 64, 100, 144, 196, 256, 324]\n"
     ]
    }
   ],
   "source": [
    "print([i ** 2 for i in range(20) if i % 2 == 0])"
   ]
  },
  {
   "cell_type": "code",
   "execution_count": 67,
   "id": "475d87b4",
   "metadata": {},
   "outputs": [
    {
     "data": {
      "text/plain": [
       "2"
      ]
     },
     "execution_count": 67,
     "metadata": {},
     "output_type": "execute_result"
    }
   ],
   "source": [
    "from math import sqrt, pow\n",
    "int(sqrt(4))"
   ]
  },
  {
   "cell_type": "code",
   "execution_count": 68,
   "id": "bf910813",
   "metadata": {},
   "outputs": [
    {
     "data": {
      "text/plain": [
       "8.0"
      ]
     },
     "execution_count": 68,
     "metadata": {},
     "output_type": "execute_result"
    }
   ],
   "source": [
    "pow(2, 3)"
   ]
  },
  {
   "cell_type": "code",
   "execution_count": 69,
   "id": "13cc2f10",
   "metadata": {},
   "outputs": [
    {
     "data": {
      "text/plain": [
       "[0, 2, 4, 6, 8, 10, 12, 14, 16, 18]"
      ]
     },
     "execution_count": 69,
     "metadata": {},
     "output_type": "execute_result"
    }
   ],
   "source": [
    "lst[:]"
   ]
  },
  {
   "cell_type": "code",
   "execution_count": 70,
   "id": "2f339da6",
   "metadata": {},
   "outputs": [
    {
     "data": {
      "text/plain": [
       "[2, 6, 10, 14]"
      ]
     },
     "execution_count": 70,
     "metadata": {},
     "output_type": "execute_result"
    }
   ],
   "source": [
    "lst[1:8:2]"
   ]
  },
  {
   "cell_type": "code",
   "execution_count": 71,
   "id": "f51236b8",
   "metadata": {},
   "outputs": [
    {
     "data": {
      "text/plain": [
       "[16, 14, 12, 10, 8]"
      ]
     },
     "execution_count": 71,
     "metadata": {},
     "output_type": "execute_result"
    }
   ],
   "source": [
    "lst[-2:3:-1]"
   ]
  },
  {
   "cell_type": "code",
   "execution_count": 72,
   "id": "4fbd6d8b",
   "metadata": {},
   "outputs": [
    {
     "data": {
      "text/plain": [
       "14"
      ]
     },
     "execution_count": 72,
     "metadata": {},
     "output_type": "execute_result"
    }
   ],
   "source": [
    "f = lambda x: 2 ** x + y\n",
    "f(2)"
   ]
  },
  {
   "cell_type": "markdown",
   "id": "36664668",
   "metadata": {},
   "source": [
    "# MATH"
   ]
  },
  {
   "cell_type": "code",
   "execution_count": 73,
   "id": "c9d02981",
   "metadata": {},
   "outputs": [
    {
     "name": "stdout",
     "output_type": "stream",
     "text": [
      "8.0\n",
      "8\n",
      "3.0\n",
      "5\n",
      "4\n",
      "179.9998479605043\n",
      "3.141592653589793\n",
      "0.5000000000000001\n",
      "1.0\n",
      "0.0\n",
      "3.0\n",
      "2.0\n"
     ]
    }
   ],
   "source": [
    "import math\n",
    "\n",
    "# возведение числа 2 в степень 3\n",
    "n1 = math.pow(2, 3)\n",
    "print(n1)  # 8\n",
    " \n",
    "# ту же самую операцию можно выполнить так\n",
    "n2 = 2**3\n",
    "print(n2)\n",
    " \n",
    "# возведение в квадрат\n",
    "print(math.sqrt(9))  # 3\n",
    " \n",
    "# ближайшее наибольшее целое число\n",
    "print(math.ceil(4.56))  # 5\n",
    " \n",
    "# ближайшее наименьшее целое число\n",
    "print(math.floor(4.56))  # 4\n",
    " \n",
    "# перевод из радиан в градусы\n",
    "print(math.degrees(3.14159))  # 180\n",
    " \n",
    "# перевод из градусов в радианы\n",
    "print(math.radians(180))   # 3.1415.....\n",
    "# косинус\n",
    "print(math.cos(math.radians(60)))  # 0.5\n",
    "# cинус\n",
    "print(math.sin(math.radians(90)))   # 1.0\n",
    "# тангенс\n",
    "print(math.tan(math.radians(0)))    # 0.0\n",
    " \n",
    "print(math.log(8,2))    # 3.0\n",
    "print(math.log10(100))    # 2.0"
   ]
  },
  {
   "cell_type": "code",
   "execution_count": 74,
   "id": "37a7d366",
   "metadata": {},
   "outputs": [
    {
     "name": "stdout",
     "output_type": "stream",
     "text": [
      "2827.4333882308138\n",
      "2.302585092994046\n"
     ]
    }
   ],
   "source": [
    "radius = 30\n",
    "# площадь круга с радиусом 30\n",
    "area = math.pi * math.pow(radius, 2)\n",
    "print(area)\n",
    " \n",
    "# натуральный логарифм числа 10\n",
    "number = math.log(10, math.e)\n",
    "print(number)"
   ]
  },
  {
   "cell_type": "markdown",
   "id": "ae05da2a",
   "metadata": {},
   "source": [
    "# Decimal"
   ]
  },
  {
   "cell_type": "code",
   "execution_count": 75,
   "id": "3768449b",
   "metadata": {},
   "outputs": [
    {
     "name": "stdout",
     "output_type": "stream",
     "text": [
      "0.30000000000000004\n"
     ]
    }
   ],
   "source": [
    "number = 0.1 + 0.1 + 0.1\n",
    "print(number)"
   ]
  },
  {
   "cell_type": "code",
   "execution_count": 76,
   "id": "587bcc02",
   "metadata": {},
   "outputs": [
    {
     "name": "stdout",
     "output_type": "stream",
     "text": [
      "0.3\n"
     ]
    }
   ],
   "source": [
    "from decimal import Decimal\n",
    "\n",
    "number = Decimal(\"0.1\")\n",
    "number = number + number + number\n",
    "print(number)       # 0.3"
   ]
  },
  {
   "cell_type": "code",
   "execution_count": 77,
   "id": "07c06006",
   "metadata": {},
   "outputs": [
    {
     "name": "stdout",
     "output_type": "stream",
     "text": [
      "2.1\n"
     ]
    }
   ],
   "source": [
    "number = Decimal(\"0.1\")\n",
    "number = number + 2 # int\n",
    "print(number)"
   ]
  },
  {
   "cell_type": "code",
   "execution_count": 91,
   "id": "0047cdee",
   "metadata": {},
   "outputs": [
    {
     "ename": "TypeError",
     "evalue": "unsupported operand type(s) for +: 'decimal.Decimal' and 'float'",
     "output_type": "error",
     "traceback": [
      "\u001b[1;31m---------------------------------------------------------------------------\u001b[0m",
      "\u001b[1;31mTypeError\u001b[0m                                 Traceback (most recent call last)",
      "\u001b[1;32mC:\\Users\\THEBAD~1\\AppData\\Local\\Temp/ipykernel_9408/4111598440.py\u001b[0m in \u001b[0;36m<module>\u001b[1;34m\u001b[0m\n\u001b[0;32m      1\u001b[0m \u001b[0mnumber\u001b[0m \u001b[1;33m=\u001b[0m \u001b[0mDecimal\u001b[0m\u001b[1;33m(\u001b[0m\u001b[1;34m\"0.1\"\u001b[0m\u001b[1;33m)\u001b[0m\u001b[1;33m\u001b[0m\u001b[1;33m\u001b[0m\u001b[0m\n\u001b[1;32m----> 2\u001b[1;33m \u001b[0mnumber\u001b[0m \u001b[1;33m=\u001b[0m \u001b[0mnumber\u001b[0m \u001b[1;33m+\u001b[0m \u001b[1;36m0.1\u001b[0m   \u001b[1;31m# здесь возникнет ошибка из-за float\u001b[0m\u001b[1;33m\u001b[0m\u001b[1;33m\u001b[0m\u001b[0m\n\u001b[0m",
      "\u001b[1;31mTypeError\u001b[0m: unsupported operand type(s) for +: 'decimal.Decimal' and 'float'"
     ]
    }
   ],
   "source": [
    "number = Decimal(\"0.1\")\n",
    "number = number + 0.1   # здесь возникнет ошибка из-за float"
   ]
  },
  {
   "cell_type": "code",
   "execution_count": 79,
   "id": "a6479167",
   "metadata": {},
   "outputs": [
    {
     "name": "stdout",
     "output_type": "stream",
     "text": [
      "0.56\n"
     ]
    }
   ],
   "source": [
    "# округление\n",
    "number = Decimal(\"0.555678\")\n",
    "print(number.quantize(Decimal(\"1.00\")))       # 0.56"
   ]
  },
  {
   "cell_type": "markdown",
   "id": "d39dd581",
   "metadata": {},
   "source": [
    "# Функции"
   ]
  },
  {
   "cell_type": "code",
   "execution_count": 90,
   "id": "c4e0da8c",
   "metadata": {},
   "outputs": [
    {
     "name": "stdout",
     "output_type": "stream",
     "text": [
      "[1, 2, 3, 4, 5]\n"
     ]
    }
   ],
   "source": [
    "nls = [\"1\", \"2\", \"3\", \"4\", \"5\"]\n",
    "print(list(map(int, nls)))"
   ]
  },
  {
   "cell_type": "code",
   "execution_count": 81,
   "id": "5f36e6a1",
   "metadata": {},
   "outputs": [
    {
     "name": "stdout",
     "output_type": "stream",
     "text": [
      "[0, 2, 4, 6, 8, 10, 12, 14, 16, 18] 500\n"
     ]
    }
   ],
   "source": [
    "print(lst, a)"
   ]
  },
  {
   "cell_type": "code",
   "execution_count": 82,
   "id": "4ee6b8a4",
   "metadata": {},
   "outputs": [
    {
     "name": "stdout",
     "output_type": "stream",
     "text": [
      "11\n"
     ]
    }
   ],
   "source": [
    "def safe_cast(val, to_type, default=None):\n",
    "    try:\n",
    "        return to_type(val)\n",
    "    except:\n",
    "        return default\n",
    "print(safe_cast(\"11\", int))"
   ]
  },
  {
   "cell_type": "code",
   "execution_count": 83,
   "id": "adbdf241",
   "metadata": {
    "scrolled": true
   },
   "outputs": [
    {
     "name": "stdout",
     "output_type": "stream",
     "text": [
      "Введите первое число: \n",
      "Введены некорректные данные\n"
     ]
    }
   ],
   "source": [
    "try:\n",
    "    number1 = int(input(\"Введите первое число: \"))\n",
    "    number2 = int(input(\"Введите второе число: \"))\n",
    "    if number2 == 0:\n",
    "        raise Exception(\"Второе число не должно быть равно 0\")\n",
    "    print(\"Результат деления двух чисел:\", number1/number2)\n",
    "except ValueError:\n",
    "    print(\"Введены некорректные данные\")\n",
    "except Exception as e:\n",
    "    print(e)"
   ]
  },
  {
   "cell_type": "code",
   "execution_count": 84,
   "id": "279c80e7",
   "metadata": {},
   "outputs": [
    {
     "name": "stdout",
     "output_type": "stream",
     "text": [
      "Tom\n",
      "22\n",
      "False\n"
     ]
    }
   ],
   "source": [
    "def get_user(): # возвращаем кортеж элементов\n",
    "    name = \"Tom\"\n",
    "    age = 22\n",
    "    is_married = False\n",
    "    return name, age, is_married\n",
    " \n",
    " \n",
    "user = get_user()\n",
    "print(user[0])              # Tom\n",
    "print(user[1])              # 22\n",
    "print(user[2])              # False"
   ]
  },
  {
   "cell_type": "code",
   "execution_count": 86,
   "id": "8c0a9f8e",
   "metadata": {},
   "outputs": [
    {
     "name": "stdout",
     "output_type": "stream",
     "text": [
      "15\n"
     ]
    }
   ],
   "source": [
    "# Неопределённое кол-во параметров\n",
    "def my_sum(*params):\n",
    "    result = 0\n",
    "    for n in params:\n",
    "        result += n\n",
    "    return result\n",
    "print(my_sum(1, 2, 3, 4, 5))\n",
    "# Возврат нескольких значений"
   ]
  },
  {
   "cell_type": "markdown",
   "id": "c730e872",
   "metadata": {},
   "source": [
    "# Домашние задания"
   ]
  },
  {
   "cell_type": "markdown",
   "id": "d063483e",
   "metadata": {},
   "source": [
    "**Основное (желательно выполнить всем):**\n",
    "\n",
    "Из списка удалить самую длинную цепочку четных элементов.\n",
    "\n",
    "Пример: из списка A[8]: 4 1 4 2 1 2 4 6 должен получиться список A[5]: 4 1 4 2 1\n",
    "\n",
    "(самая длинная цепочка четных чисел включает элементы с 6 по 8: 2 4 6)."
   ]
  },
  {
   "cell_type": "markdown",
   "id": "c7be589d",
   "metadata": {},
   "source": [
    "**Дополнительное:**"
   ]
  },
  {
   "attachments": {},
   "cell_type": "markdown",
   "id": "ba15fd97",
   "metadata": {},
   "source": [
    "https://informatics.msk.ru/mod/statements/view3.php?chapterid=99#1"
   ]
  },
  {
   "cell_type": "markdown",
   "id": "c6c0e2fb",
   "metadata": {},
   "source": [
    "# Дополнительные материалы"
   ]
  },
  {
   "cell_type": "markdown",
   "id": "f17eb764",
   "metadata": {},
   "source": [
    "https://docs.python.org/3.9/library/index.html <br>\n",
    "https://metanit.com/python/tutorial/ <br>\n",
    "https://pythontutor.ru/lessons/inout_and_arithmetic_operations/problems/aplusbplusc/"
   ]
  },
  {
   "cell_type": "code",
   "execution_count": null,
   "id": "fe1f4774",
   "metadata": {},
   "outputs": [],
   "source": []
  }
 ],
 "metadata": {
  "kernelspec": {
   "display_name": "Python 3 (ipykernel)",
   "language": "python",
   "name": "python3"
  },
  "language_info": {
   "codemirror_mode": {
    "name": "ipython",
    "version": 3
   },
   "file_extension": ".py",
   "mimetype": "text/x-python",
   "name": "python",
   "nbconvert_exporter": "python",
   "pygments_lexer": "ipython3",
   "version": "3.9.7"
  }
 },
 "nbformat": 4,
 "nbformat_minor": 5
}
